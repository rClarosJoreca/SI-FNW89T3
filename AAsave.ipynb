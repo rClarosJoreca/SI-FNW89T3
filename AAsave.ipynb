{
 "cells": [
  {
   "cell_type": "code",
   "execution_count": null,
   "metadata": {
    "vscode": {
     "languageId": "plaintext"
    }
   },
   "outputs": [],
   "source": [
    "for idx, diapositiva in enumerate(prs.slides):\n",
    "    if idx == 0:\n",
    "        print(f\"\\n--- Diapositiva {idx} ---\")\n",
    "    else:\n",
    "        print(f\"\\n--- Diapositiva {idx + 1} ---\")\n",
    "    \n",
    "    # Iterar sobre cada objeto (shape) en la diapositiva\n",
    "    for shape in diapositiva.shapes:\n",
    "        \n",
    "        # Mostrar el tipo de shape\n",
    "        print(f\"Objeto tipo: {shape.shape_type}\")\n",
    "        \n",
    "        # Si el objeto tiene un cuadro de texto\n",
    "        if shape.has_text_frame:\n",
    "            print(\"Contiene texto:\")\n",
    "            print(f\"Texto actual: {shape.text}\")\n",
    "        \n",
    "        # Si el objeto es una imagen (tipo Picture)\n",
    "        if shape.shape_type == 13:  # 13 es el tipo para imágenes\n",
    "            print(f\"Este es una imagen.\")\n",
    "        \n",
    "        # Si el objeto es un gráfico\n",
    "        if shape.has_chart:\n",
    "            print(f\"Este es un gráfico.\")\n",
    "            \n",
    "        # Si el objeto es un marcador de posición\n",
    "        if shape.is_placeholder:\n",
    "            print(f\"Este es un marcador de posición: {shape.placeholder_format.idx}\")"
   ]
  },
  {
   "cell_type": "code",
   "execution_count": null,
   "metadata": {
    "vscode": {
     "languageId": "plaintext"
    }
   },
   "outputs": [],
   "source": [
    "import random\n",
    "from pptx.chart.data import ChartData\n",
    "\n",
    "# Datos actualizados\n",
    "pro_listings = 70\n",
    "private_listings = 30\n",
    "\n",
    "# Cargar la diapositiva y gráfico correctos\n",
    "diapositiva = prs.slides[3]  # Cambia según la diapositiva correcta\n",
    "chart = diapositiva.shapes[0].chart  # Asegúrate de que sea el gráfico correcto\n",
    "\n",
    "# Actualizar los datos del gráfico\n",
    "chart_data = ChartData()\n",
    "chart_data.categories = ['Pro Listings', 'Private Listings']\n",
    "chart_data.add_series('Listings', (pro_listings, private_listings))\n",
    "chart.replace_data(chart_data)\n",
    "\n",
    "chart.plots[0].has_data_labels = True\n",
    "x = chart.plots[0].data_labels\n",
    "\n",
    "# Guardar la presentación actualizada\n",
    "prs.save(f\"ZZ{random.randint(1, 100)}_tu_presentacion_actualizada.pptx\")\n"
   ]
  },
  {
   "cell_type": "code",
   "execution_count": null,
   "metadata": {
    "vscode": {
     "languageId": "plaintext"
    }
   },
   "outputs": [],
   "source": [
    "from pptx.chart.data import CategoryChartData\n",
    "from pptx.enum.chart import XL_CHART_TYPE\n",
    "from pptx.enum.chart import XL_LEGEND_POSITION\n",
    "from pptx.util import Inches\n",
    "\n",
    "\n",
    "# Añadir una nueva diapositiva con un layout de título y contenido\n",
    "slide_layout = prs.slide_layouts[4] \n",
    "new_slide = prs.slides.add_slide(slide_layout)\n",
    "\n",
    "# Añadir un título a la nueva diapositiva\n",
    "title = new_slide.shapes.title\n",
    "title.text = \"New Donut Chart: 50% Pro Listings vs 50% Private Listings\"\n",
    "\n",
    "# Añadir un gráfico tipo donut a la nueva diapositiva\n",
    "chart_data = CategoryChartData()\n",
    "chart_data.categories = ['Pro Listings', 'Private Listings']  # Etiquetas de las categorías\n",
    "chart_data.add_series('Sales', (50, 50))  # Valores de las series (50% cada uno)\n",
    "\n",
    "# Posicionar y definir el tamaño del gráfico en la diapositiva\n",
    "x, y, cx, cy = Inches(2), Inches(1.5), Inches(6), Inches(4.5)\n",
    "chart = new_slide.shapes.add_chart(\n",
    "    XL_CHART_TYPE.DOUGHNUT, x, y, cx, cy, chart_data\n",
    ").chart\n",
    "\n",
    "# Configurar el gráfico\n",
    "chart.has_legend = True  # Añadir leyenda para \"Pro Listings\" y \"Private Listings\"\n",
    "chart.legend.position = XL_LEGEND_POSITION.BOTTOM  # Posición de la leyenda (abajo)\n",
    "chart.plots[0].has_data_labels = True  # Mostrar etiquetas con porcentajes\n",
    "\n",
    "# Guardar la presentación con la nueva diapositiva y gráfico\n",
    "prs.save(\"presentacion_modificada_con_grafico_donut.pptx\")\n",
    "print(\"Presentación guardada con un nuevo gráfico de donut.\")\n"
   ]
  },
  {
   "cell_type": "markdown",
   "metadata": {},
   "source": [
    "<h1>label perso </h1>"
   ]
  },
  {
   "cell_type": "code",
   "execution_count": null,
   "metadata": {
    "vscode": {
     "languageId": "plaintext"
    }
   },
   "outputs": [],
   "source": [
    "import random\n",
    "from pptx import Presentation\n",
    "from pptx.chart.data import ChartData\n",
    "from pptx.util import Pt, Inches\n",
    "from pptx.dml.color import RGBColor\n",
    "\n",
    "# Sample data\n",
    "pro_listings = round((result)*100)\n",
    "private_listings = round(100 - (result*100))\n",
    "\n",
    "# Load the slide and chart correctly\n",
    "diapositiva = prs.slides[3]  # Ensure this is the correct slide\n",
    "chart = diapositiva.shapes[0].chart  # Ensure this is the correct chart\n",
    "\n",
    "# Update chart data\n",
    "chart_data = ChartData()\n",
    "chart_data.categories = ['Pro Listings', 'Private Listings']\n",
    "chart_data.add_series('Listings', (pro_listings, private_listings))\n",
    "chart.replace_data(chart_data)\n",
    "\n",
    "# Disable the default data labels\n",
    "plot = chart.plots[0]\n",
    "plot.has_data_labels = False  # Disable the default labels\n",
    "\n",
    "# Create custom text boxes for each label\n",
    "# For \"Pro Listings\"\n",
    "pro_left = Inches(10)  # Adjust X position\n",
    "pro_top = Inches(5)   # Adjust Y position\n",
    "pro_percentage_textbox = diapositiva.shapes.add_textbox(pro_left, pro_top, Inches(1), Inches(0.5))\n",
    "pro_percentage_text_frame = pro_percentage_textbox.text_frame\n",
    "pro_percentage_text_frame.text = f\"{pro_listings}%\"\n",
    "pro_percentage_text_frame.paragraphs[0].font.size = Pt(24)  # Set larger font size for percentage\n",
    "pro_percentage_text_frame.paragraphs[0].font.bold = True\n",
    "pro_percentage_text_frame.paragraphs[0].font.color.rgb = RGBColor(82, 18, 98)  # Set color\n",
    "\n",
    "pro_category_textbox = diapositiva.shapes.add_textbox(pro_left, pro_top + Inches(0.3), Inches(1), Inches(0.5))\n",
    "pro_category_text_frame = pro_category_textbox.text_frame\n",
    "pro_category_text_frame.text = \"Pro Listings\"\n",
    "pro_category_text_frame.paragraphs[0].font.size = Pt(16)  # Set smaller font size for category name\n",
    "pro_category_text_frame.paragraphs[0].font.bold = False\n",
    "pro_category_text_frame.paragraphs[0].font.color.rgb = RGBColor(82, 18, 98)  # Set color\n",
    "\n",
    "# For \"Private Listings\"\n",
    "private_left = Inches(1)  # Adjust X position\n",
    "private_top = Inches(8)  # Adjust Y position\n",
    "private_percentage_textbox = diapositiva.shapes.add_textbox(private_left, private_top, Inches(1), Inches(0.5))\n",
    "private_percentage_text_frame = private_percentage_textbox.text_frame\n",
    "private_percentage_text_frame.text = f\"{private_listings}%\"\n",
    "private_percentage_text_frame.paragraphs[0].font.size = Pt(24)  # Set larger font size for percentage\n",
    "private_percentage_text_frame.paragraphs[0].font.bold = True\n",
    "private_percentage_text_frame.paragraphs[0].font.color.rgb = RGBColor(82, 18, 98)  # Set color\n",
    "\n",
    "private_category_textbox = diapositiva.shapes.add_textbox(private_left, private_top + Inches(0.3), Inches(1), Inches(0.5))\n",
    "private_category_text_frame = private_category_textbox.text_frame\n",
    "private_category_text_frame.text = \"Private Listings\"\n",
    "private_category_text_frame.paragraphs[0].font.size = Pt(16)  # Set smaller font size for category name\n",
    "private_category_text_frame.paragraphs[0].font.bold = False\n",
    "private_category_text_frame.paragraphs[0].font.color.rgb = RGBColor(82, 18, 98)  # Set color\n",
    "\n",
    "# Save the updated presentation\n",
    "prs.save(f\"ZZ{random.randint(1, 100)}_auto_ppt.pptx\")\n"
   ]
  },
  {
   "cell_type": "markdown",
   "metadata": {},
   "source": [
    "<h1>Prueba origi y prueba 2 </h1>"
   ]
  },
  {
   "cell_type": "code",
   "execution_count": null,
   "metadata": {
    "vscode": {
     "languageId": "plaintext"
    }
   },
   "outputs": [],
   "source": [
    "import random\n",
    "from pptx.chart.data import ChartData\n",
    "from pptx.util import Pt\n",
    "from pptx.enum.chart import XL_LABEL_POSITION, XL_LABEL_POSITION\n",
    "\n",
    "# Datos actualizados\n",
    "pro_listings = 70\n",
    "private_listings = 30\n",
    "\n",
    "# Cargar la diapositiva y gráfico correctos\n",
    "diapositiva = prs.slides[3]  # Cambia según la diapositiva correcta\n",
    "chart = diapositiva.shapes[0].chart  # Asegúrate de que sea el gráfico correcto\n",
    "\n",
    "# Actualizar los datos del gráfico\n",
    "chart_data = ChartData()\n",
    "chart_data.categories = ['Pro Listings', 'Private Listings']\n",
    "chart_data.add_series('Listings', (pro_listings, private_listings))\n",
    "chart.replace_data(chart_data)\n",
    "\n",
    "plot = chart.plots[0]\n",
    "plot.has_data_labels = True\n",
    "\n",
    "# Configuración de las etiquetas de datos\n",
    "data_labels = plot.data_labels\n",
    "data_labels.show_percentage = True\n",
    "data_labels.show_category_name = True\n",
    "data_labels.font.size = Pt(20)  \n",
    "data_labels.font.bold = True \n",
    "\n",
    "# Guardar la presentación actualizada\n",
    "prs.save(f\"ZZ{random.randint(1, 100)}_auto_ppt.pptx\")"
   ]
  },
  {
   "cell_type": "code",
   "execution_count": null,
   "metadata": {
    "vscode": {
     "languageId": "plaintext"
    }
   },
   "outputs": [],
   "source": [
    "import random\n",
    "from pptx.chart.data import ChartData\n",
    "from pptx.util import Pt\n",
    "\n",
    "# Datos actualizados\n",
    "pro_listings = 80\n",
    "private_listings = 20\n",
    "\n",
    "# Cargar la diapositiva y gráfico correctos\n",
    "diapositiva = prs.slides[3]  # Cambia según la diapositiva correcta\n",
    "chart = diapositiva.shapes[0].chart  # Asegúrate de que sea el gráfico correcto\n",
    "\n",
    "# Actualizar los datos del gráfico\n",
    "chart_data = ChartData()\n",
    "chart_data.categories = ['Pro Listings', 'Private Listings']\n",
    "chart_data.add_series('Listings', (pro_listings, private_listings))\n",
    "chart.replace_data(chart_data)\n",
    "\n",
    "# Actualizar los labels del gráfico\n",
    "plot = chart.plots[0]\n",
    "plot.has_data_labels = True  # Asegúrate de habilitar las etiquetas de datos\n",
    "\n",
    "# Configuración de las etiquetas de datos\n",
    "data_labels = plot.data_labels\n",
    "data_labels.show_category_name = True\n",
    "data_labels.show_percentage = True\n",
    "data_labels.font.size = Pt(20)  # Ajustar el tamaño de la fuente\n",
    "data_labels.font.bold = True  # Poner las etiquetas en negrita\n",
    "\n",
    "# Guardar la presentación actualizada\n",
    "prs.save(f\"ZZ{random.randint(1, 100)}_auto_ppt.pptx\")"
   ]
  },
  {
   "cell_type": "markdown",
   "metadata": {},
   "source": [
    "<h1>index de texto</h1>"
   ]
  },
  {
   "cell_type": "code",
   "execution_count": null,
   "metadata": {
    "vscode": {
     "languageId": "plaintext"
    }
   },
   "outputs": [],
   "source": [
    "from pptx import Presentation\n",
    "\n",
    "# Asegurarse de que se selecciona la diapositiva correcta\n",
    "diapositiva = prs.slides[3]  # Cambia según la diapositiva que estás editando\n",
    "\n",
    "# Recorrer todos los objetos (shapes) en la diapositiva\n",
    "for idx, shape in enumerate(diapositiva.shapes):\n",
    "    if shape.has_text_frame:  # Verificar si el objeto tiene un cuadro de texto\n",
    "        print(f\"Objeto {idx}: Contiene texto -> '{shape.text}'\")\n",
    "    else:\n",
    "        print(f\"Objeto {idx}: No es un cuadro de texto\")\n",
    "\n",
    "# Esto imprimirá el índice de cada objeto (shape) y el texto que contiene (si es un cuadro de texto)\n"
   ]
  },
  {
   "cell_type": "markdown",
   "metadata": {},
   "source": [
    "<h1>Reemplaza texto en toda la presentacion</h1>"
   ]
  },
  {
   "cell_type": "code",
   "execution_count": null,
   "metadata": {
    "vscode": {
     "languageId": "plaintext"
    }
   },
   "outputs": [],
   "source": [
    "# for idx, diapositiva in enumerate(prs.slides):\n",
    "#     for shape in diapositiva.shapes:\n",
    "#         if shape.has_text_frame:\n",
    "#             # print(f\"Texto actual en la diapositiva {idx+1}: {shape.text}\")\n",
    "            \n",
    "#             for paragraph in shape.text_frame.paragraphs:\n",
    "#                 for run in paragraph.runs:\n",
    "#                     if last_month in run.text:\n",
    "#                         run.text = run.text.replace(last_month, month) \n",
    "#                     if str(last_year) in run.text:\n",
    "#                         run.text = run.text.replace(str(last_year), str(year)) "
   ]
  },
  {
   "cell_type": "markdown",
   "metadata": {},
   "source": [
    "<h1>Grafico cruzado original</h1>"
   ]
  },
  {
   "cell_type": "code",
   "execution_count": null,
   "metadata": {
    "vscode": {
     "languageId": "plaintext"
    }
   },
   "outputs": [],
   "source": [
    "# # Load Excel data into DataFrame, force float to int directly\n",
    "# sheet_name = 'Dedoub pros'\n",
    "# dfdg = pd.read_excel(xcl, sheet_name=sheet_name, header=3, index_col=1)\n",
    "\n",
    "# # Drop the first column (NaN) and row names\n",
    "# dfdg = dfdg.dropna(axis=1, how='all')  # Drop NaN columns\n",
    "\n",
    "# # Drop the first row\n",
    "# dfdg = dfdg.iloc[1:]\n",
    "\n",
    "# dfdg = dfdg.iloc[:, 1:]  # Skip the first column (row names)\n",
    "\n",
    "# # Convert all numeric columns to int, keeping NaN\n",
    "# for col in dfdg.select_dtypes(include='float'):\n",
    "#     dfdg[col] = dfdg[col].fillna(0).astype(int).replace(0, pd.NA)\n",
    "\n",
    "# # Access the specific slide (adjust index if necessary)\n",
    "# slide_index = 10  # Slide number (index 9)\n",
    "# slide = prs.slides[slide_index - 1]  # Adjust for zero-indexing\n",
    "\n",
    "# ### Main Data Table (Without First Column)\n",
    "\n",
    "# # Table dimensions and position for the main data\n",
    "# left = Inches(6.4 / 2.54)  # 6.4 cm to inches\n",
    "# top = Inches(7.45 / 2.54)  # 7.45 cm to inches\n",
    "# width = Inches(20.35 / 2.54)  # 20.35 cm to inches\n",
    "# height = Inches(8.74 / 2.54)  # 8.74 cm to inches\n",
    "\n",
    "# # Create main data table\n",
    "# table = slide.shapes.add_table(dfdg.shape[0], dfdg.shape[1], left, top, width, height).table\n",
    "\n",
    "# # Fill table with DataFrame values\n",
    "# for i, (index, row) in enumerate(dfdg.iterrows()):\n",
    "#     for j, value in enumerate(row):\n",
    "#         cell = table.cell(i, j)\n",
    "#         cell.text = str(value) if pd.notna(value) else \"\"\n",
    "#         cell.text = f\"{value:,.0f}\".replace(',', ' ') if pd.notna(value) else \"\"\n",
    "        \n",
    "#         # Text formatting\n",
    "#         para = cell.text_frame.paragraphs[0]\n",
    "#         para.font.bold = True\n",
    "#         para.font.size = Pt(14)\n",
    "#         para.alignment = PP_ALIGN.CENTER\n",
    "#         para.font.color.rgb = RGBColor(0, 0, 0)  # Black text\n",
    "        \n",
    "#         # Text box margins and alignment (Zone de texte)\n",
    "#         cell.text_frame.margin_left = Inches(0.25 / 2.54)\n",
    "#         cell.text_frame.margin_right = Inches(0.25 / 2.54)\n",
    "#         cell.text_frame.margin_top = Inches(0.13 / 2.54)\n",
    "#         cell.text_frame.margin_bottom = Inches(0.13 / 2.54)\n",
    "#         cell.text_frame.vertical_anchor = MSO_ANCHOR.MIDDLE\n",
    "\n",
    "# # Set table background to transparent and remove borders\n",
    "# for row in table.rows:\n",
    "#     for cell in row.cells:\n",
    "#         cell.fill.solid()\n",
    "#         cell.fill.fore_color.rgb = RGBColor(255, 255, 255)  # White background\n",
    "\n",
    "# # Adjust text box properties\n",
    "# for shape in slide.shapes:\n",
    "#     if shape.has_table:\n",
    "#         shape.left = left\n",
    "#         shape.top = top\n",
    "#         shape.width = width\n",
    "#         shape.height = height\n",
    "\n",
    "#         # Send the table to the back\n",
    "#         slide.shapes._spTree.remove(shape._element)\n",
    "#         slide.shapes._spTree.insert(2, shape._element)  # Sends to back (index 2)"
   ]
  },
  {
   "cell_type": "code",
   "execution_count": null,
   "metadata": {
    "vscode": {
     "languageId": "plaintext"
    }
   },
   "outputs": [],
   "source": [
    "# # Load Excel data into DataFrame, force float to int directly\n",
    "# sheet_name = 'Dedoub pros'\n",
    "# dfdg = pd.read_excel(xcl, sheet_name=sheet_name, header=3, index_col=1)\n",
    "\n",
    "# # Save first column in another variable\n",
    "# firstColunm = dfdg.iloc[:, 1]\n",
    "\n",
    "# # Drop the first column (NaN) and row names\n",
    "# dfdg = dfdg.dropna(axis=1, how='all')  # Drop NaN columns\n",
    "\n",
    "# # Drop the first row\n",
    "# dfdg = dfdg.iloc[1:]\n",
    "\n",
    "# dfdg = dfdg.iloc[:, 1:]  # Skip the first column (row names)\n",
    "\n",
    "# # Convert all numeric columns to int, keeping NaN\n",
    "# for col in dfdg.select_dtypes(include='float'):\n",
    "#     dfdg[col] = dfdg[col].fillna(0).astype(int).replace(0, pd.NA)\n",
    "\n",
    "# # Access the specific slide (adjust index if necessary)\n",
    "# slide_index = 10  # Slide number (index 9)\n",
    "# slide = prs.slides[slide_index - 1]  # Adjust for zero-indexing\n",
    "\n",
    "# ### Create table for the first column (Website shared listings)\n",
    "\n",
    "# # Table dimensions\n",
    "# first_col_width = Inches(3.5 / 2.54)  # 3.5 cm (Largeur)\n",
    "# first_col_height = Inches(10.5 / 2.54)  # 12 cm (Hauteur)\n",
    "\n",
    "# # Initial table creation (position will be adjusted after)\n",
    "# first_table_shape = slide.shapes.add_table(len(firstColunm) + 1, 1, Inches(0), Inches(0), first_col_width, first_col_height)\n",
    "\n",
    "# first_table = first_table_shape.table\n",
    "\n",
    "# # Explicitly set the table position\n",
    "# first_table_shape.left = Inches(2.96 / 2.54)  # 2.96 cm (Position horizontale)\n",
    "# first_table_shape.top = Inches(4.19 / 2.54)  # 4.19 cm (Position verticale)\n",
    "\n",
    "# # Fill table with first column values\n",
    "# first_table.cell(0, 0).text = \"Website shared Listings\"\n",
    "# first_table.cell(0, 0).text_frame.paragraphs[0].font.bold = True\n",
    "# first_table.cell(0, 0).text_frame.paragraphs[0].font.size = Pt(16)\n",
    "# first_table.cell(0, 0).text_frame.paragraphs[0].alignment = PP_ALIGN.CENTER\n",
    "# first_table.cell(0, 0).fill.solid()\n",
    "# first_table.cell(0, 0).fill.fore_color.rgb = RGBColor(82, 21, 98)  # Dark purple\n",
    "\n",
    "# for i, (index, value) in enumerate(firstColunm.items(), start=1):\n",
    "#     first_table.cell(i, 0).text = f\"{value:,.0f}\".replace(',', ' ')\n",
    "#     para = first_table.cell(i, 0).text_frame.paragraphs[0]\n",
    "#     para.font.bold = True\n",
    "#     para.font.size = Pt(16)\n",
    "#     para.alignment = PP_ALIGN.CENTER\n",
    "#     first_table.cell(i, 0).fill.solid()\n",
    "#     first_table.cell(i, 0).fill.fore_color.rgb = RGBColor(192, 192, 192)  # Light gray\n",
    "\n",
    "# # Adjust text box margins and alignment for the first column\n",
    "# for row in first_table.rows:\n",
    "#     for cell in row.cells:\n",
    "#         cell.text_frame.margin_left = Inches(0.25 / 2.54)  # 0.25 cm\n",
    "#         cell.text_frame.margin_right = Inches(0.25 / 2.54)  # 0.25 cm\n",
    "#         cell.text_frame.margin_top = Inches(0.13 / 2.54)  # 0.13 cm\n",
    "#         cell.text_frame.margin_bottom = Inches(0.13 / 2.54)  # 0.13 cm\n",
    "#         cell.text_frame.vertical_anchor = MSO_ANCHOR.TOP  # Align to top\n",
    "\n",
    "# # # Save the updated presentation\n",
    "# # prs.save(f\"ZZ{pd.Timestamp.now().strftime('%Y%m%d%H%M%S')}_auto_ppt.pptx\")\n",
    "# # print(\"Table and first column added successfully.\")\n"
   ]
  },
  {
   "cell_type": "code",
   "execution_count": null,
   "metadata": {
    "vscode": {
     "languageId": "plaintext"
    }
   },
   "outputs": [],
   "source": [
    "# # Número nuevo que deseas insertar con separación de miles por espacio\n",
    "# new_number = f\"{dfdg.iloc[3, 3]:,}\".replace(\",\", \" \")\n",
    "\n",
    "# # Acceder a la diapositiva específica\n",
    "# slide_index = 10  # Ajusta el índice si es necesario\n",
    "# slide = prs.slides[slide_index - 1]\n",
    "\n",
    "# # Buscar el cuadro de texto con el formato 'XXX XXX Ads with'\n",
    "# for shape in slide.shapes:\n",
    "#     if shape.has_text_frame:\n",
    "#         text = shape.text\n",
    "#         if \"Ads with\" in text:\n",
    "#             # Dividir el texto y limpiar el cuadro\n",
    "#             parts = text.split(\" \")\n",
    "#             p = shape.text_frame.paragraphs[0]  # Mantener el mismo párrafo existente\n",
    "#             p.clear()  # Limpiar el texto del párrafo sin eliminarlo\n",
    "\n",
    "#             # Agregar el número formateado al mismo párrafo\n",
    "#             run_number = p.add_run()\n",
    "#             run_number.text = new_number\n",
    "#             run_number.font.bold = True\n",
    "#             run_number.font.size = Pt(18)\n",
    "#             run_number.font.color.rgb = RGBColor(82, 21, 98) \n",
    "#             run_number.font.name = 'Verdana'\n",
    "\n",
    "#             # Agregar el resto del texto ('Ads with') sin un nuevo párrafo\n",
    "#             run_text = p.add_run()\n",
    "#             run_text.text = \" Ads with\"\n",
    "#             run_text.font.bold = False\n",
    "#             run_text.font.size = Pt(18)\n",
    "#             run_text.font.color.rgb = RGBColor(0, 0, 0)  # Negro\n",
    "#             run_text.font.name = 'Verdana'"
   ]
  }
 ],
 "metadata": {
  "language_info": {
   "name": "python"
  }
 },
 "nbformat": 4,
 "nbformat_minor": 2
}
